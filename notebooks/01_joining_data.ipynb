{
 "cells": [
  {
   "cell_type": "code",
   "execution_count": 1,
   "id": "fc0e8124-9140-4613-8031-55f6a6b14969",
   "metadata": {},
   "outputs": [],
   "source": [
    "import pandas as pd"
   ]
  },
  {
   "cell_type": "code",
   "execution_count": 2,
   "id": "3cebccb3-5c2b-4ec3-a012-87be583722ef",
   "metadata": {},
   "outputs": [],
   "source": [
    "salaryDf = pd.read_csv('../data/processed/salary.csv')"
   ]
  },
  {
   "cell_type": "code",
   "execution_count": 4,
   "id": "4c4ca6d4-6ebb-4945-a238-d8adacc38021",
   "metadata": {},
   "outputs": [],
   "source": [
    "jobDf = pd.read_csv('../data/processed/occupations.csv',sep = '\\t')"
   ]
  },
  {
   "cell_type": "code",
   "execution_count": 5,
   "id": "a38537cb-d01b-4f39-984e-867bfa224936",
   "metadata": {},
   "outputs": [
    {
     "data": {
      "text/html": [
       "<div>\n",
       "<style scoped>\n",
       "    .dataframe tbody tr th:only-of-type {\n",
       "        vertical-align: middle;\n",
       "    }\n",
       "\n",
       "    .dataframe tbody tr th {\n",
       "        vertical-align: top;\n",
       "    }\n",
       "\n",
       "    .dataframe thead th {\n",
       "        text-align: right;\n",
       "    }\n",
       "</style>\n",
       "<table border=\"1\" class=\"dataframe\">\n",
       "  <thead>\n",
       "    <tr style=\"text-align: right;\">\n",
       "      <th></th>\n",
       "      <th>Unnamed: 0</th>\n",
       "      <th>OCC_TITLE</th>\n",
       "      <th>OCC_CODE</th>\n",
       "      <th>A_MEAN</th>\n",
       "    </tr>\n",
       "  </thead>\n",
       "  <tbody>\n",
       "    <tr>\n",
       "      <th>0</th>\n",
       "      <td>4</td>\n",
       "      <td>Chief Executives</td>\n",
       "      <td>11-1011</td>\n",
       "      <td>213020</td>\n",
       "    </tr>\n",
       "    <tr>\n",
       "      <th>1</th>\n",
       "      <td>6</td>\n",
       "      <td>General and Operations Managers</td>\n",
       "      <td>11-1021</td>\n",
       "      <td>115250</td>\n",
       "    </tr>\n",
       "    <tr>\n",
       "      <th>2</th>\n",
       "      <td>8</td>\n",
       "      <td>Legislators</td>\n",
       "      <td>11-1031</td>\n",
       "      <td>57110</td>\n",
       "    </tr>\n",
       "    <tr>\n",
       "      <th>3</th>\n",
       "      <td>11</td>\n",
       "      <td>Advertising and Promotions Managers</td>\n",
       "      <td>11-2011</td>\n",
       "      <td>142860</td>\n",
       "    </tr>\n",
       "    <tr>\n",
       "      <th>4</th>\n",
       "      <td>13</td>\n",
       "      <td>Marketing Managers</td>\n",
       "      <td>11-2021</td>\n",
       "      <td>153440</td>\n",
       "    </tr>\n",
       "  </tbody>\n",
       "</table>\n",
       "</div>"
      ],
      "text/plain": [
       "   Unnamed: 0                            OCC_TITLE OCC_CODE  A_MEAN\n",
       "0           4                     Chief Executives  11-1011  213020\n",
       "1           6      General and Operations Managers  11-1021  115250\n",
       "2           8                          Legislators  11-1031   57110\n",
       "3          11  Advertising and Promotions Managers  11-2011  142860\n",
       "4          13                   Marketing Managers  11-2021  153440"
      ]
     },
     "execution_count": 5,
     "metadata": {},
     "output_type": "execute_result"
    }
   ],
   "source": [
    "salaryDf.head()"
   ]
  },
  {
   "cell_type": "code",
   "execution_count": 6,
   "id": "fb42c50d-2d00-4292-8b36-5dd6c8b3b6e7",
   "metadata": {},
   "outputs": [],
   "source": [
    "salaryDf.set_index('OCC_CODE',inplace=True)"
   ]
  },
  {
   "cell_type": "code",
   "execution_count": 7,
   "id": "84e41b5c-05a9-432f-a8a6-289d905e9265",
   "metadata": {},
   "outputs": [
    {
     "data": {
      "text/html": [
       "<div>\n",
       "<style scoped>\n",
       "    .dataframe tbody tr th:only-of-type {\n",
       "        vertical-align: middle;\n",
       "    }\n",
       "\n",
       "    .dataframe tbody tr th {\n",
       "        vertical-align: top;\n",
       "    }\n",
       "\n",
       "    .dataframe thead th {\n",
       "        text-align: right;\n",
       "    }\n",
       "</style>\n",
       "<table border=\"1\" class=\"dataframe\">\n",
       "  <thead>\n",
       "    <tr style=\"text-align: right;\">\n",
       "      <th></th>\n",
       "      <th>O*NET-SOC Code</th>\n",
       "      <th>Title</th>\n",
       "      <th>Description</th>\n",
       "    </tr>\n",
       "  </thead>\n",
       "  <tbody>\n",
       "    <tr>\n",
       "      <th>0</th>\n",
       "      <td>11-1011.00</td>\n",
       "      <td>Chief Executives</td>\n",
       "      <td>Determine and formulate policies and provide o...</td>\n",
       "    </tr>\n",
       "    <tr>\n",
       "      <th>1</th>\n",
       "      <td>11-1011.03</td>\n",
       "      <td>Chief Sustainability Officers</td>\n",
       "      <td>Communicate and coordinate with management, sh...</td>\n",
       "    </tr>\n",
       "    <tr>\n",
       "      <th>2</th>\n",
       "      <td>11-1021.00</td>\n",
       "      <td>General and Operations Managers</td>\n",
       "      <td>Plan, direct, or coordinate the operations of ...</td>\n",
       "    </tr>\n",
       "    <tr>\n",
       "      <th>3</th>\n",
       "      <td>11-1031.00</td>\n",
       "      <td>Legislators</td>\n",
       "      <td>Develop, introduce, or enact laws and statutes...</td>\n",
       "    </tr>\n",
       "    <tr>\n",
       "      <th>4</th>\n",
       "      <td>11-2011.00</td>\n",
       "      <td>Advertising and Promotions Managers</td>\n",
       "      <td>Plan, direct, or coordinate advertising polici...</td>\n",
       "    </tr>\n",
       "  </tbody>\n",
       "</table>\n",
       "</div>"
      ],
      "text/plain": [
       "  O*NET-SOC Code                                Title  \\\n",
       "0     11-1011.00                     Chief Executives   \n",
       "1     11-1011.03        Chief Sustainability Officers   \n",
       "2     11-1021.00      General and Operations Managers   \n",
       "3     11-1031.00                          Legislators   \n",
       "4     11-2011.00  Advertising and Promotions Managers   \n",
       "\n",
       "                                         Description  \n",
       "0  Determine and formulate policies and provide o...  \n",
       "1  Communicate and coordinate with management, sh...  \n",
       "2  Plan, direct, or coordinate the operations of ...  \n",
       "3  Develop, introduce, or enact laws and statutes...  \n",
       "4  Plan, direct, or coordinate advertising polici...  "
      ]
     },
     "execution_count": 7,
     "metadata": {},
     "output_type": "execute_result"
    }
   ],
   "source": [
    "jobDf.head()"
   ]
  },
  {
   "cell_type": "code",
   "execution_count": 9,
   "id": "91b0c219-0558-4fec-a123-145acf6c532e",
   "metadata": {},
   "outputs": [],
   "source": [
    "jobDf.set_index(jobDf['O*NET-SOC Code'].apply(lambda x:x[0:-3]),inplace=True)"
   ]
  },
  {
   "cell_type": "code",
   "execution_count": 11,
   "id": "42c23b97-2d7e-4b49-8105-6c9910b37921",
   "metadata": {},
   "outputs": [],
   "source": [
    "combinedDf = jobDf.join(salaryDf)"
   ]
  },
  {
   "cell_type": "code",
   "execution_count": 13,
   "id": "b6d1489a-2b33-468d-bced-a7bdea8eba87",
   "metadata": {},
   "outputs": [],
   "source": [
    "del combinedDf['Unnamed: 0']"
   ]
  },
  {
   "cell_type": "code",
   "execution_count": 15,
   "id": "7de0f62c-bbb3-433f-9a3f-6f2f7267e8bf",
   "metadata": {},
   "outputs": [],
   "source": [
    "del combinedDf['OCC_TITLE']"
   ]
  },
  {
   "cell_type": "code",
   "execution_count": 16,
   "id": "8624d187-e533-4e81-9cd3-8d2a6c36ab99",
   "metadata": {},
   "outputs": [
    {
     "data": {
      "text/html": [
       "<div>\n",
       "<style scoped>\n",
       "    .dataframe tbody tr th:only-of-type {\n",
       "        vertical-align: middle;\n",
       "    }\n",
       "\n",
       "    .dataframe tbody tr th {\n",
       "        vertical-align: top;\n",
       "    }\n",
       "\n",
       "    .dataframe thead th {\n",
       "        text-align: right;\n",
       "    }\n",
       "</style>\n",
       "<table border=\"1\" class=\"dataframe\">\n",
       "  <thead>\n",
       "    <tr style=\"text-align: right;\">\n",
       "      <th></th>\n",
       "      <th>O*NET-SOC Code</th>\n",
       "      <th>Title</th>\n",
       "      <th>Description</th>\n",
       "      <th>A_MEAN</th>\n",
       "    </tr>\n",
       "  </thead>\n",
       "  <tbody>\n",
       "    <tr>\n",
       "      <th>11-1011</th>\n",
       "      <td>11-1011.00</td>\n",
       "      <td>Chief Executives</td>\n",
       "      <td>Determine and formulate policies and provide o...</td>\n",
       "      <td>213020</td>\n",
       "    </tr>\n",
       "    <tr>\n",
       "      <th>11-1011</th>\n",
       "      <td>11-1011.03</td>\n",
       "      <td>Chief Sustainability Officers</td>\n",
       "      <td>Communicate and coordinate with management, sh...</td>\n",
       "      <td>213020</td>\n",
       "    </tr>\n",
       "    <tr>\n",
       "      <th>11-1021</th>\n",
       "      <td>11-1021.00</td>\n",
       "      <td>General and Operations Managers</td>\n",
       "      <td>Plan, direct, or coordinate the operations of ...</td>\n",
       "      <td>115250</td>\n",
       "    </tr>\n",
       "    <tr>\n",
       "      <th>11-1031</th>\n",
       "      <td>11-1031.00</td>\n",
       "      <td>Legislators</td>\n",
       "      <td>Develop, introduce, or enact laws and statutes...</td>\n",
       "      <td>57110</td>\n",
       "    </tr>\n",
       "    <tr>\n",
       "      <th>11-2011</th>\n",
       "      <td>11-2011.00</td>\n",
       "      <td>Advertising and Promotions Managers</td>\n",
       "      <td>Plan, direct, or coordinate advertising polici...</td>\n",
       "      <td>142860</td>\n",
       "    </tr>\n",
       "  </tbody>\n",
       "</table>\n",
       "</div>"
      ],
      "text/plain": [
       "        O*NET-SOC Code                                Title  \\\n",
       "11-1011     11-1011.00                     Chief Executives   \n",
       "11-1011     11-1011.03        Chief Sustainability Officers   \n",
       "11-1021     11-1021.00      General and Operations Managers   \n",
       "11-1031     11-1031.00                          Legislators   \n",
       "11-2011     11-2011.00  Advertising and Promotions Managers   \n",
       "\n",
       "                                               Description  A_MEAN  \n",
       "11-1011  Determine and formulate policies and provide o...  213020  \n",
       "11-1011  Communicate and coordinate with management, sh...  213020  \n",
       "11-1021  Plan, direct, or coordinate the operations of ...  115250  \n",
       "11-1031  Develop, introduce, or enact laws and statutes...   57110  \n",
       "11-2011  Plan, direct, or coordinate advertising polici...  142860  "
      ]
     },
     "execution_count": 16,
     "metadata": {},
     "output_type": "execute_result"
    }
   ],
   "source": [
    "combinedDf.head()"
   ]
  },
  {
   "cell_type": "code",
   "execution_count": 21,
   "id": "dfaf2796-9099-448a-8a5f-61e44d5d5dee",
   "metadata": {},
   "outputs": [
    {
     "data": {
      "text/plain": [
       "54"
      ]
     },
     "execution_count": 21,
     "metadata": {},
     "output_type": "execute_result"
    }
   ],
   "source": [
    "combinedDf['A_MEAN'].isna().sum()"
   ]
  },
  {
   "cell_type": "code",
   "execution_count": 22,
   "id": "401b48cd-9fe5-486d-b890-0e563f9be886",
   "metadata": {},
   "outputs": [],
   "source": [
    "combinedDf.dropna(inplace=True)"
   ]
  },
  {
   "cell_type": "code",
   "execution_count": 26,
   "id": "5bd75847-adfc-4066-b644-3c1626ff3b4e",
   "metadata": {},
   "outputs": [
    {
     "data": {
      "text/plain": [
       "6"
      ]
     },
     "execution_count": 26,
     "metadata": {},
     "output_type": "execute_result"
    }
   ],
   "source": [
    "(combinedDf['A_MEAN'] == '*').sum()"
   ]
  },
  {
   "cell_type": "code",
   "execution_count": 28,
   "id": "53129c16-ab7c-4b0f-9963-6ae44e069afd",
   "metadata": {},
   "outputs": [],
   "source": [
    "combinedDf = combinedDf[~(combinedDf['A_MEAN'] == '*')]"
   ]
  },
  {
   "cell_type": "code",
   "execution_count": 29,
   "id": "d4259ad7-7936-4b68-b5f6-245fe7d7a97f",
   "metadata": {},
   "outputs": [],
   "source": [
    "combinedDf.to_csv('../data/processed/combined.csv')"
   ]
  },
  {
   "cell_type": "code",
   "execution_count": null,
   "id": "f1de18bb-586d-47c7-a57d-0f0e795e8fed",
   "metadata": {},
   "outputs": [],
   "source": []
  }
 ],
 "metadata": {
  "kernelspec": {
   "display_name": "venv",
   "language": "python",
   "name": "venv"
  },
  "language_info": {
   "codemirror_mode": {
    "name": "ipython",
    "version": 3
   },
   "file_extension": ".py",
   "mimetype": "text/x-python",
   "name": "python",
   "nbconvert_exporter": "python",
   "pygments_lexer": "ipython3",
   "version": "3.9.5"
  }
 },
 "nbformat": 4,
 "nbformat_minor": 5
}
