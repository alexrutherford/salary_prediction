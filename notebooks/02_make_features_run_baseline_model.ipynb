{
 "cells": [
  {
   "cell_type": "code",
   "execution_count": 1,
   "id": "c3b8dd59-82da-4ebc-9d4c-70e77b20ce1e",
   "metadata": {},
   "outputs": [],
   "source": [
    "import pandas as pd\n",
    "import numpy as np\n",
    "from sklearn.feature_extraction.text import CountVectorizer\n",
    "from sklearn.feature_extraction.text import TfidfTransformer\n",
    "from sklearn import linear_model\n",
    "from sklearn.model_selection import cross_val_score\n",
    "from sklearn.metrics import fbeta_score, make_scorer\n",
    "from sklearn.model_selection import train_test_split\n",
    "from sklearn.metrics import mean_absolute_error\n",
    "from sklearn.model_selection import GridSearchCV\n",
    "from sklearn.pipeline import Pipeline\n",
    "\n",
    "from sklearn import svm\n",
    "import seaborn as sns"
   ]
  },
  {
   "cell_type": "code",
   "execution_count": 2,
   "id": "d10e79c6-1d39-42c2-807b-be5fc4600d2d",
   "metadata": {},
   "outputs": [],
   "source": [
    "combinedDf = pd.read_csv('../data/processed/combined.csv')"
   ]
  },
  {
   "cell_type": "code",
   "execution_count": 3,
   "id": "d1c05628-c70a-41e4-a7cb-d24052699e85",
   "metadata": {},
   "outputs": [
    {
     "data": {
      "text/html": [
       "<div>\n",
       "<style scoped>\n",
       "    .dataframe tbody tr th:only-of-type {\n",
       "        vertical-align: middle;\n",
       "    }\n",
       "\n",
       "    .dataframe tbody tr th {\n",
       "        vertical-align: top;\n",
       "    }\n",
       "\n",
       "    .dataframe thead th {\n",
       "        text-align: right;\n",
       "    }\n",
       "</style>\n",
       "<table border=\"1\" class=\"dataframe\">\n",
       "  <thead>\n",
       "    <tr style=\"text-align: right;\">\n",
       "      <th></th>\n",
       "      <th>Unnamed: 0</th>\n",
       "      <th>O*NET-SOC Code</th>\n",
       "      <th>Title</th>\n",
       "      <th>Description</th>\n",
       "      <th>A_MEAN</th>\n",
       "    </tr>\n",
       "  </thead>\n",
       "  <tbody>\n",
       "    <tr>\n",
       "      <th>0</th>\n",
       "      <td>11-1011</td>\n",
       "      <td>11-1011.00</td>\n",
       "      <td>Chief Executives</td>\n",
       "      <td>Determine and formulate policies and provide o...</td>\n",
       "      <td>213020</td>\n",
       "    </tr>\n",
       "    <tr>\n",
       "      <th>1</th>\n",
       "      <td>11-1011</td>\n",
       "      <td>11-1011.03</td>\n",
       "      <td>Chief Sustainability Officers</td>\n",
       "      <td>Communicate and coordinate with management, sh...</td>\n",
       "      <td>213020</td>\n",
       "    </tr>\n",
       "    <tr>\n",
       "      <th>2</th>\n",
       "      <td>11-1021</td>\n",
       "      <td>11-1021.00</td>\n",
       "      <td>General and Operations Managers</td>\n",
       "      <td>Plan, direct, or coordinate the operations of ...</td>\n",
       "      <td>115250</td>\n",
       "    </tr>\n",
       "    <tr>\n",
       "      <th>3</th>\n",
       "      <td>11-1031</td>\n",
       "      <td>11-1031.00</td>\n",
       "      <td>Legislators</td>\n",
       "      <td>Develop, introduce, or enact laws and statutes...</td>\n",
       "      <td>57110</td>\n",
       "    </tr>\n",
       "    <tr>\n",
       "      <th>4</th>\n",
       "      <td>11-2011</td>\n",
       "      <td>11-2011.00</td>\n",
       "      <td>Advertising and Promotions Managers</td>\n",
       "      <td>Plan, direct, or coordinate advertising polici...</td>\n",
       "      <td>142860</td>\n",
       "    </tr>\n",
       "  </tbody>\n",
       "</table>\n",
       "</div>"
      ],
      "text/plain": [
       "  Unnamed: 0 O*NET-SOC Code                                Title  \\\n",
       "0    11-1011     11-1011.00                     Chief Executives   \n",
       "1    11-1011     11-1011.03        Chief Sustainability Officers   \n",
       "2    11-1021     11-1021.00      General and Operations Managers   \n",
       "3    11-1031     11-1031.00                          Legislators   \n",
       "4    11-2011     11-2011.00  Advertising and Promotions Managers   \n",
       "\n",
       "                                         Description  A_MEAN  \n",
       "0  Determine and formulate policies and provide o...  213020  \n",
       "1  Communicate and coordinate with management, sh...  213020  \n",
       "2  Plan, direct, or coordinate the operations of ...  115250  \n",
       "3  Develop, introduce, or enact laws and statutes...   57110  \n",
       "4  Plan, direct, or coordinate advertising polici...  142860  "
      ]
     },
     "execution_count": 3,
     "metadata": {},
     "output_type": "execute_result"
    }
   ],
   "source": [
    "combinedDf.head()"
   ]
  },
  {
   "cell_type": "code",
   "execution_count": 4,
   "id": "3a046405-84c4-41f7-b495-926bdf5813e5",
   "metadata": {},
   "outputs": [
    {
     "name": "stdout",
     "output_type": "stream",
     "text": [
      "Determine and formulate policies and provide overall direction of companies or private and public sector organizations within guidelines set up by a board of directors or similar governing body. Plan, direct, or coordinate operational activities at the highest level of management with the help of subordinate executives and staff managers.\n"
     ]
    }
   ],
   "source": [
    "print(combinedDf[combinedDf['Title'] == 'Chief Executives']['Description'][0])"
   ]
  },
  {
   "cell_type": "markdown",
   "id": "475933bb-7a2b-421e-9043-9d9a3caf4cca",
   "metadata": {},
   "source": [
    "## Get the word features"
   ]
  },
  {
   "cell_type": "code",
   "execution_count": 5,
   "id": "f830d275-d6fe-47e2-9785-efa007bed7e8",
   "metadata": {},
   "outputs": [],
   "source": [
    "count_vect = CountVectorizer(ngram_range=(1,1),min_df=0.03)"
   ]
  },
  {
   "cell_type": "code",
   "execution_count": 6,
   "id": "e103642e-a1b5-4315-a113-97b627af55ae",
   "metadata": {},
   "outputs": [],
   "source": [
    "counts = count_vect.fit_transform(combinedDf['Description'])"
   ]
  },
  {
   "cell_type": "code",
   "execution_count": 7,
   "id": "9943fa47-185c-4520-bb5f-f4c301829fdd",
   "metadata": {},
   "outputs": [
    {
     "data": {
      "text/plain": [
       "<956x110 sparse matrix of type '<class 'numpy.int64'>'\n",
       "\twith 9481 stored elements in Compressed Sparse Row format>"
      ]
     },
     "execution_count": 7,
     "metadata": {},
     "output_type": "execute_result"
    }
   ],
   "source": [
    "counts"
   ]
  },
  {
   "cell_type": "code",
   "execution_count": 8,
   "id": "63933a26-225c-4b97-a086-3815c2b96f78",
   "metadata": {},
   "outputs": [],
   "source": [
    "tf_transformer = TfidfTransformer(use_idf=False).fit(counts)"
   ]
  },
  {
   "cell_type": "code",
   "execution_count": 9,
   "id": "5f686cd2-51d4-41cf-96d8-b481f7e1848d",
   "metadata": {},
   "outputs": [],
   "source": [
    "X_train_tf = tf_transformer.transform(counts)"
   ]
  },
  {
   "cell_type": "code",
   "execution_count": 11,
   "id": "ebc9ee32-899b-4c3d-8906-6e384ef4d99a",
   "metadata": {},
   "outputs": [
    {
     "data": {
      "text/plain": [
       "0"
      ]
     },
     "execution_count": 11,
     "metadata": {},
     "output_type": "execute_result"
    }
   ],
   "source": [
    "combinedDf['A_MEAN'].isna().sum()"
   ]
  },
  {
   "cell_type": "code",
   "execution_count": 12,
   "id": "1b4d28e4-50b9-4d19-8f8f-f7e325535556",
   "metadata": {},
   "outputs": [
    {
     "data": {
      "text/plain": [
       "<AxesSubplot:xlabel='A_MEAN', ylabel='Density'>"
      ]
     },
     "execution_count": 12,
     "metadata": {},
     "output_type": "execute_result"
    },
    {
     "data": {
      "image/png": "[encoded data removed]",
      "text/plain": [
       "<Figure size 432x288 with 1 Axes>"
      ]
     },
     "metadata": {
      "needs_background": "light"
     },
     "output_type": "display_data"
    }
   ],
   "source": [
    "sns.kdeplot(combinedDf['A_MEAN'])"
   ]
  },
  {
   "cell_type": "code",
   "execution_count": 13,
   "id": "37e81489-8a46-49d6-bebd-f09eaa37c1e5",
   "metadata": {},
   "outputs": [
    {
     "data": {
      "text/plain": [
       "<AxesSubplot:xlabel='A_MEAN', ylabel='Density'>"
      ]
     },
     "execution_count": 13,
     "metadata": {},
     "output_type": "execute_result"
    },
    {
     "data": {
      "image/png": "[encoded data removed]",
      "text/plain": [
       "<Figure size 432x288 with 1 Axes>"
      ]
     },
     "metadata": {
      "needs_background": "light"
     },
     "output_type": "display_data"
    }
   ],
   "source": [
    "sns.kdeplot(np.log(combinedDf['A_MEAN']))"
   ]
  },
  {
   "cell_type": "markdown",
   "id": "eb42f153-b29b-415a-9d3f-a67757305a12",
   "metadata": {},
   "source": [
    "## Make a model"
   ]
  },
  {
   "cell_type": "code",
   "execution_count": 14,
   "id": "53324732-6b77-4604-a25d-f4454a3a804d",
   "metadata": {},
   "outputs": [],
   "source": [
    "reg = linear_model.LinearRegression()"
   ]
  },
  {
   "cell_type": "code",
   "execution_count": 16,
   "id": "805ba1ff-ce6a-4faa-bf79-6e01c24b534a",
   "metadata": {},
   "outputs": [],
   "source": [
    "y = np.log(combinedDf['A_MEAN'])\n",
    "# log scale the salaries"
   ]
  },
  {
   "cell_type": "code",
   "execution_count": 17,
   "id": "011ede77-406e-450b-83fe-f137c602277e",
   "metadata": {},
   "outputs": [
    {
     "data": {
      "text/plain": [
       "LinearRegression()"
      ]
     },
     "execution_count": 17,
     "metadata": {},
     "output_type": "execute_result"
    }
   ],
   "source": [
    "reg.fit(X_train_tf, y)"
   ]
  },
  {
   "cell_type": "code",
   "execution_count": 18,
   "id": "c4a3f65a-b166-4e85-ad83-c6e1e3ff4198",
   "metadata": {},
   "outputs": [],
   "source": [
    "newJobs = ['Works with pets and lifts heavy objects','Makes decisions and manages a budget','Determine and formulate policies and provide overall direction of companies or private and public organizations within guidelines set up by a board of directors or similar governing body. Plan, direct, or coordinate operational activities at the highest level of management with the help of subordinate executives and staff managers.']"
   ]
  },
  {
   "cell_type": "code",
   "execution_count": 19,
   "id": "137c1c1d-e4da-42d9-9c2e-5131d1159015",
   "metadata": {},
   "outputs": [],
   "source": [
    "newJobsCounts = count_vect.transform(newJobs)"
   ]
  },
  {
   "cell_type": "code",
   "execution_count": 20,
   "id": "588fbec8-21ba-4a53-a33a-b2a8e4d67273",
   "metadata": {},
   "outputs": [
    {
     "data": {
      "text/plain": [
       "<3x110 sparse matrix of type '<class 'numpy.int64'>'\n",
       "\twith 21 stored elements in Compressed Sparse Row format>"
      ]
     },
     "execution_count": 20,
     "metadata": {},
     "output_type": "execute_result"
    }
   ],
   "source": [
    "newJobsCounts"
   ]
  },
  {
   "cell_type": "code",
   "execution_count": 21,
   "id": "bfabe060-1a7d-4acb-a247-b935fcc5e409",
   "metadata": {},
   "outputs": [
    {
     "data": {
      "text/plain": [
       "<3x110 sparse matrix of type '<class 'numpy.float64'>'\n",
       "\twith 21 stored elements in Compressed Sparse Row format>"
      ]
     },
     "execution_count": 21,
     "metadata": {},
     "output_type": "execute_result"
    }
   ],
   "source": [
    "tf_transformer.transform(newJobsCounts)"
   ]
  },
  {
   "cell_type": "code",
   "execution_count": 22,
   "id": "6c1c96b9-0824-4ebf-b876-f10f6db99713",
   "metadata": {},
   "outputs": [
    {
     "data": {
      "text/plain": [
       "array([10.96715628, 10.93193801, 11.40460725])"
      ]
     },
     "execution_count": 22,
     "metadata": {},
     "output_type": "execute_result"
    }
   ],
   "source": [
    "reg.predict(tf_transformer.transform(newJobsCounts))"
   ]
  },
  {
   "cell_type": "code",
   "execution_count": 23,
   "id": "734147d3-256d-4d75-86c0-0612d7ca5efd",
   "metadata": {},
   "outputs": [
    {
     "data": {
      "text/plain": [
       "0.542156881049183"
      ]
     },
     "execution_count": 23,
     "metadata": {},
     "output_type": "execute_result"
    }
   ],
   "source": [
    "reg.score(X_train_tf,y)"
   ]
  },
  {
   "cell_type": "markdown",
   "id": "e96de88a-87a5-434d-85a7-01e92a7b5c56",
   "metadata": {},
   "source": [
    "## Cross Validation"
   ]
  },
  {
   "cell_type": "code",
   "execution_count": 24,
   "id": "8bcfb7dd-9740-4911-988d-a6f81bc37ca3",
   "metadata": {},
   "outputs": [],
   "source": [
    "reg = linear_model.LinearRegression()"
   ]
  },
  {
   "cell_type": "code",
   "execution_count": 25,
   "id": "dbb8ddac-b77a-4699-b2c1-c61319d7f4e6",
   "metadata": {},
   "outputs": [],
   "source": [
    "scores = cross_val_score(reg, X_train_tf, y, cv=4)"
   ]
  },
  {
   "cell_type": "code",
   "execution_count": 26,
   "id": "d1c889bb-fd8e-4855-9e0e-fcfd0eb7f04e",
   "metadata": {},
   "outputs": [
    {
     "data": {
      "text/plain": [
       "array([-2.40175407, -0.70881173, -1.34232857, -0.96499057])"
      ]
     },
     "execution_count": 26,
     "metadata": {},
     "output_type": "execute_result"
    }
   ],
   "source": [
    "scores"
   ]
  },
  {
   "cell_type": "markdown",
   "id": "33ce5176-08a3-4973-8f05-28b5fa482caa",
   "metadata": {},
   "source": [
    "## Train Test Split"
   ]
  },
  {
   "cell_type": "code",
   "execution_count": 28,
   "id": "f4feb2ce-32f4-443f-877c-542a29155822",
   "metadata": {},
   "outputs": [],
   "source": [
    "reg = linear_model.LinearRegression()"
   ]
  },
  {
   "cell_type": "code",
   "execution_count": 29,
   "id": "0f869d7b-dbaa-4e5a-ba87-90400be5793e",
   "metadata": {},
   "outputs": [],
   "source": [
    "X_train, X_test, y_train, y_test = train_test_split(X_train_tf, y, test_size=0.33, random_state=42)"
   ]
  },
  {
   "cell_type": "code",
   "execution_count": 30,
   "id": "d7d40b7f-9f73-49dc-992d-45bcf88bc1d5",
   "metadata": {},
   "outputs": [
    {
     "data": {
      "text/plain": [
       "LinearRegression()"
      ]
     },
     "execution_count": 30,
     "metadata": {},
     "output_type": "execute_result"
    }
   ],
   "source": [
    "reg.fit(X_train,y_train)"
   ]
  },
  {
   "cell_type": "code",
   "execution_count": 31,
   "id": "bf898c5a-6e0f-48cb-866e-8419db76438e",
   "metadata": {},
   "outputs": [
    {
     "data": {
      "text/plain": [
       "0.31863884514519064"
      ]
     },
     "execution_count": 31,
     "metadata": {},
     "output_type": "execute_result"
    }
   ],
   "source": [
    "mean_absolute_error(y_test,reg.predict(X_test))"
   ]
  },
  {
   "cell_type": "code",
   "execution_count": 32,
   "id": "10e74be9-9c33-42c4-839c-3c6e8e10160c",
   "metadata": {},
   "outputs": [
    {
     "data": {
      "text/plain": [
       "25134.008870049413"
      ]
     },
     "execution_count": 32,
     "metadata": {},
     "output_type": "execute_result"
    }
   ],
   "source": [
    "abs(np.exp(reg.predict(X_test)) - np.exp(y_test)).mean()"
   ]
  },
  {
   "cell_type": "code",
   "execution_count": null,
   "id": "3bf66575-c1e1-4e17-b000-995368307b58",
   "metadata": {},
   "outputs": [],
   "source": [
    "plt.plot()"
   ]
  },
  {
   "cell_type": "code",
   "execution_count": 113,
   "id": "d68d7545-1dc8-46ac-b1d8-bbf3f464cfbd",
   "metadata": {
    "collapsed": true,
    "jupyter": {
     "outputs_hidden": true
    },
    "tags": []
   },
   "outputs": [
    {
     "data": {
      "text/plain": [
       "array([ 96730.08846109,  98473.04736431,  71203.30717682,  35440.38491545,\n",
       "        51326.81047762,  86893.31951115,  79581.85446587,  71014.13090402,\n",
       "       148107.14266903,  82681.12986006,  56360.82753947,  74961.92657404,\n",
       "        44308.66202546,  60617.13886666,  87587.83229218, 103589.48783363,\n",
       "       122033.54993885,  58637.44576785,  50938.90679646,  56295.59604543,\n",
       "        50975.83128579,  95211.07966244,  42558.28815755,  23042.29732541,\n",
       "        71568.50375352, 134465.39360567,  39815.78476938, 101478.67516539,\n",
       "        42690.63284967,  95419.21435117,  46066.62183043, 111323.01736595,\n",
       "        65136.66819712,  39658.91946571,  95568.17398913,  57100.02456807,\n",
       "       105196.49059881,  83040.37820361,  76144.48126401,  54725.54131111,\n",
       "        47832.28956388, 107509.21387656,  68503.09359046,  48202.16472674,\n",
       "        71885.41735888,  65333.90254487,  53691.92611927,  86372.40658883,\n",
       "        45034.38744795,  81231.98216094,  92903.14977665,  88737.24839569,\n",
       "        70038.80602674,  64755.20719029,  85998.18223518,  96543.95996717,\n",
       "        66708.03366651,  63946.35290322, 109196.59785654,  69822.50435888,\n",
       "        58786.64563375,  60345.21184812,  78833.06610662,  80138.43950589,\n",
       "        57337.94118213,  36444.52834406,  62711.90735659,  56974.09342315,\n",
       "        53115.58421101,  31042.20337235,  45404.04039012,  87847.79811736,\n",
       "        32930.4152253 , 116108.11529307, 102148.52515237,  65617.05829004,\n",
       "        89285.30860883,  46819.72125795,  41127.30576905, 112402.74033426,\n",
       "        50509.62966006,  39277.94617395,  86907.73949746, 142592.25344798,\n",
       "        50359.39523845,  54117.8946423 , 127158.13929787,  45891.95579904,\n",
       "        70297.33083169,  46893.81223543,  67022.3135008 ,  42117.21012224,\n",
       "        58731.06597344, 108102.28867868,  39852.11925584,  60291.0991078 ,\n",
       "        28465.08697395, 105731.65965931,  72803.11375441,  84008.38527348,\n",
       "        45132.99584711,  44730.53861193,  80514.0242362 ,  78888.85295617,\n",
       "        80670.34446867, 127366.15043078,  83402.26430733,  40300.13061818,\n",
       "        64457.98813491,  13459.4800039 ,  79969.74030933,  55876.59386893,\n",
       "        55196.40846439, 171710.68344447,  50869.54733822,  53390.26735061,\n",
       "        60959.43715873,  89602.21900969,  78769.50856237,  92864.05995679,\n",
       "        63802.20645861,  35366.30095261,  90435.18146955,  50208.31778298,\n",
       "        60894.05538915, 125424.68139476,  59525.05760566,  91867.18006738,\n",
       "        58834.8572845 ,  59137.72371104,  81244.74493925,  64308.8813765 ,\n",
       "        97845.71724165,  37124.32281813,  91744.46353708, 105939.83152925,\n",
       "        51302.75596135,  83920.36455818,  87694.98168991,  43345.17567739,\n",
       "        59491.07955331,  85505.47807007,  41110.96494046,  50402.6814126 ,\n",
       "        60223.6946197 ,  41318.09975448,  48919.52777719,  87966.45541752,\n",
       "        79696.37098416,  87935.24508615, 114087.21519482,  39274.65182317,\n",
       "        81875.41086347, 106566.55340314, 116970.52437987, 106118.99294474,\n",
       "        55553.4013911 ,  82842.36227652,  82114.59765537,  64938.40280849,\n",
       "        65348.8899272 ,  58189.77699475,  33831.73491733,  49848.89132253,\n",
       "        54532.40066767,  53271.28737978,  87052.23724821, 102228.96533637,\n",
       "        51247.74977587,  47797.69662902,  96739.5570331 ,  44219.65589256,\n",
       "        60743.91085294,  53166.65658043, 114102.24961221,  91011.69767606,\n",
       "        36939.17721399,  76704.11148579,  33446.66860442,  47746.7176844 ,\n",
       "        75894.11137467,  84541.74985966,  63049.20116   ,  56096.64882078,\n",
       "       146102.1999992 ,  57118.46152797, 105706.21298322,  50457.59943385,\n",
       "        62894.36563629,  82314.17289816,  44852.89037863, 179900.7482973 ,\n",
       "        91189.24319596,  46637.83727   ,  24412.782227  ,  33689.99300908,\n",
       "        95527.52569581,  89006.71013715,  59820.81654815,  12714.75858904,\n",
       "        93705.08573765, 158116.40439498,  95781.95278173,  77933.70251039,\n",
       "        35437.74131438,  69928.32412   , 104427.49261864,  60763.69284542,\n",
       "        93022.05569285,  21953.19165619,  96897.31471107, 108007.9019276 ,\n",
       "       104130.23404269, 134248.34046576, 129776.15663038,  55895.45319634,\n",
       "       110248.38261765,  23175.47033288,  98173.00308078,  85129.03829299,\n",
       "        52510.75716313,  62669.95495138,  47395.60197435,  69126.67083884,\n",
       "        53640.64075417,  83704.50852641,  52259.74862128, 136609.38110236,\n",
       "        77928.45845155,  80376.32071975,  49585.41936357,  64989.4909534 ,\n",
       "        77309.41118196,  34930.86781912,  49532.2448499 , 105407.31250174,\n",
       "       104631.37678802, 241155.9838053 ,  13853.88395901,  77801.92633504,\n",
       "       173398.59030553, 136846.49787458,  30275.70480852,  51958.3972489 ,\n",
       "        77526.09859248,  99791.10670173,  96583.37169548,  95144.55070717,\n",
       "        86701.09500661, 253777.39304664,  59869.72881043,  79703.68924058,\n",
       "        22894.75484846, 113331.73788196,  56680.06115055,  95360.57516225,\n",
       "        62655.99286281,  57099.28767311,  94648.46978263, 214865.35295389,\n",
       "       110737.35521702,  37866.74802019,  87694.98168991,  50922.98687997,\n",
       "        74067.87579063,  33536.10631028,  58762.97746814, 112818.71962218,\n",
       "        65033.99034474,  65577.69828405, 102278.60190997, 130349.78860719,\n",
       "        73173.94694111, 126976.48183846,  35235.69399415,  99671.81925265,\n",
       "        25126.09904695,  72841.25691788,  98640.12004299,  22008.44058174,\n",
       "        90616.8594923 ,  53089.8949039 ,  42364.73362044,  44803.2796975 ,\n",
       "        34917.45913812,  90031.42111447, 112424.49640081,  86113.62464678,\n",
       "        87640.11289511,  62882.08341432,  95304.05767015,  84002.35454437,\n",
       "        63865.50429272,  49787.12878834,  59305.41141445,  87694.98168991,\n",
       "        39274.65182317,  20158.39263375, 125251.77789851,  66799.55124726,\n",
       "        54540.15884331,  45917.25136208,  93192.86289329,  73979.6024384 ,\n",
       "        69474.28904772, 116962.58070791,  90412.33236851, 139527.01408809,\n",
       "        53208.325183  ,  93601.90928499,  76464.81676565,  59767.51597153,\n",
       "        71766.64983088,  94495.58966147,  76826.99122806,  16903.94531675])"
      ]
     },
     "execution_count": 113,
     "metadata": {},
     "output_type": "execute_result"
    }
   ],
   "source": [
    "reg.predict(X_test)"
   ]
  },
  {
   "cell_type": "code",
   "execution_count": 33,
   "id": "83578d1c-9d58-4eee-a0e4-0853014dde65",
   "metadata": {},
   "outputs": [],
   "source": [
    "regr = svm.SVR()"
   ]
  },
  {
   "cell_type": "code",
   "execution_count": 34,
   "id": "06ee1d0c-c900-4d24-a6cc-dcd311bca484",
   "metadata": {},
   "outputs": [
    {
     "data": {
      "text/plain": [
       "SVR()"
      ]
     },
     "execution_count": 34,
     "metadata": {},
     "output_type": "execute_result"
    }
   ],
   "source": [
    "regr.fit(X_train,y_train)"
   ]
  },
  {
   "cell_type": "code",
   "execution_count": 35,
   "id": "c3bb7e42-caf7-40b0-9322-fd509cca6920",
   "metadata": {},
   "outputs": [
    {
     "data": {
      "text/plain": [
       "0.289150758054006"
      ]
     },
     "execution_count": 35,
     "metadata": {},
     "output_type": "execute_result"
    }
   ],
   "source": [
    "mean_absolute_error(y_test,regr.predict(X_test))"
   ]
  },
  {
   "cell_type": "markdown",
   "id": "f6e849c1-e9cd-4639-adf6-9a51bea13174",
   "metadata": {},
   "source": [
    "## Grid Search"
   ]
  },
  {
   "cell_type": "code",
   "execution_count": 36,
   "id": "f05f3863-ee53-472b-bc3d-af64742ba33d",
   "metadata": {},
   "outputs": [],
   "source": [
    "X = combinedDf['Description']\n",
    "y = np.log(combinedDf['A_MEAN'])"
   ]
  },
  {
   "cell_type": "code",
   "execution_count": 51,
   "id": "5cacab39-109c-4251-a785-60f3b95bbac1",
   "metadata": {},
   "outputs": [
    {
     "data": {
      "text/plain": [
       "0"
      ]
     },
     "execution_count": 51,
     "metadata": {},
     "output_type": "execute_result"
    }
   ],
   "source": [
    "y.isna().sum()"
   ]
  },
  {
   "cell_type": "code",
   "execution_count": 37,
   "id": "41ed43b3-29fd-49ea-86dc-2ac2018dcc9e",
   "metadata": {},
   "outputs": [],
   "source": [
    "X_train, X_test, y_train, y_test = train_test_split(X, y, test_size=0.33, random_state=42)"
   ]
  },
  {
   "cell_type": "code",
   "execution_count": 38,
   "id": "9e456a44-9b68-4a09-a46a-af669d6141c4",
   "metadata": {},
   "outputs": [],
   "source": [
    "pipeline = Pipeline(\n",
    "    [\n",
    "        (\"vect\", CountVectorizer()),\n",
    "        (\"tfidf\", TfidfTransformer()),\n",
    "        (\"svr\", svm.SVR()),\n",
    "    ]\n",
    ")"
   ]
  },
  {
   "cell_type": "code",
   "execution_count": 39,
   "id": "fd471bc4-5447-4955-b9be-09912716f96b",
   "metadata": {},
   "outputs": [],
   "source": [
    "parameters = {\n",
    "    \"vect__max_df\": (0.5, 0.75, 0,9, 1.0),\n",
    "    \"vect__min_df\": (0.0, 0.01, 0.025, 0.05),\n",
    "     'tfidf__use_idf': (True, False),\n",
    "    \"svr__C\": (0.01,0.1,0.5,1),\n",
    "    \"svr__kernel\" : ('linear', 'poly', 'rbf')\n",
    "}"
   ]
  },
  {
   "cell_type": "code",
   "execution_count": 44,
   "id": "8f06c877-dca7-4556-8fac-ebc63cf5d67f",
   "metadata": {},
   "outputs": [],
   "source": [
    "def my_log_loss(y_true, y_pred):\n",
    "    return abs(np.exp(y_pred + 1) - np.exp(y_true + 1)).mean()"
   ]
  },
  {
   "cell_type": "code",
   "execution_count": 45,
   "id": "9c120da6-6250-4357-ae53-345e51a27f43",
   "metadata": {},
   "outputs": [],
   "source": [
    "score = make_scorer(my_log_loss, greater_is_better=False)"
   ]
  },
  {
   "cell_type": "code",
   "execution_count": 46,
   "id": "06b56c8f-6a07-40ee-a356-8b51db1a1362",
   "metadata": {},
   "outputs": [],
   "source": [
    "grid_search = GridSearchCV(pipeline, parameters, n_jobs=-1, verbose=1, scoring = score)"
   ]
  },
  {
   "cell_type": "code",
   "execution_count": 52,
   "id": "05c25068-2bbf-44b7-956e-fecefe7ddc19",
   "metadata": {
    "collapsed": true,
    "jupyter": {
     "outputs_hidden": true
    },
    "tags": []
   },
   "outputs": [
    {
     "name": "stdout",
     "output_type": "stream",
     "text": [
      "Fitting 5 folds for each of 480 candidates, totalling 2400 fits\n"
     ]
    },
    {
     "name": "stderr",
     "output_type": "stream",
     "text": [
      "/Users/alexisrutherford/salary_prediction/venv/lib/python3.9/site-packages/sklearn/model_selection/_validation.py:372: FitFailedWarning: \n",
      "720 fits failed out of a total of 2400.\n",
      "The score on these train-test partitions for these parameters will be set to nan.\n",
      "If these failures are not expected, you can try to debug them by setting error_score='raise'.\n",
      "\n",
      "Below are more details about the failures:\n",
      "--------------------------------------------------------------------------------\n",
      "120 fits failed with the following error:\n",
      "Traceback (most recent call last):\n",
      "  File \"/Users/alexisrutherford/salary_prediction/venv/lib/python3.9/site-packages/sklearn/model_selection/_validation.py\", line 680, in _fit_and_score\n",
      "    estimator.fit(X_train, y_train, **fit_params)\n",
      "  File \"/Users/alexisrutherford/salary_prediction/venv/lib/python3.9/site-packages/sklearn/pipeline.py\", line 390, in fit\n",
      "    Xt = self._fit(X, y, **fit_params_steps)\n",
      "  File \"/Users/alexisrutherford/salary_prediction/venv/lib/python3.9/site-packages/sklearn/pipeline.py\", line 348, in _fit\n",
      "    X, fitted_transformer = fit_transform_one_cached(\n",
      "  File \"/Users/alexisrutherford/salary_prediction/venv/lib/python3.9/site-packages/joblib/memory.py\", line 349, in __call__\n",
      "    return self.func(*args, **kwargs)\n",
      "  File \"/Users/alexisrutherford/salary_prediction/venv/lib/python3.9/site-packages/sklearn/pipeline.py\", line 893, in _fit_transform_one\n",
      "    res = transformer.fit_transform(X, y, **fit_params)\n",
      "  File \"/Users/alexisrutherford/salary_prediction/venv/lib/python3.9/site-packages/sklearn/feature_extraction/text.py\", line 1347, in fit_transform\n",
      "    X, self.stop_words_ = self._limit_features(\n",
      "  File \"/Users/alexisrutherford/salary_prediction/venv/lib/python3.9/site-packages/sklearn/feature_extraction/text.py\", line 1179, in _limit_features\n",
      "    raise ValueError(\n",
      "ValueError: After pruning, no terms remain. Try a lower min_df or a higher max_df.\n",
      "\n",
      "--------------------------------------------------------------------------------\n",
      "600 fits failed with the following error:\n",
      "Traceback (most recent call last):\n",
      "  File \"/Users/alexisrutherford/salary_prediction/venv/lib/python3.9/site-packages/sklearn/model_selection/_validation.py\", line 680, in _fit_and_score\n",
      "    estimator.fit(X_train, y_train, **fit_params)\n",
      "  File \"/Users/alexisrutherford/salary_prediction/venv/lib/python3.9/site-packages/sklearn/pipeline.py\", line 390, in fit\n",
      "    Xt = self._fit(X, y, **fit_params_steps)\n",
      "  File \"/Users/alexisrutherford/salary_prediction/venv/lib/python3.9/site-packages/sklearn/pipeline.py\", line 348, in _fit\n",
      "    X, fitted_transformer = fit_transform_one_cached(\n",
      "  File \"/Users/alexisrutherford/salary_prediction/venv/lib/python3.9/site-packages/joblib/memory.py\", line 349, in __call__\n",
      "    return self.func(*args, **kwargs)\n",
      "  File \"/Users/alexisrutherford/salary_prediction/venv/lib/python3.9/site-packages/sklearn/pipeline.py\", line 893, in _fit_transform_one\n",
      "    res = transformer.fit_transform(X, y, **fit_params)\n",
      "  File \"/Users/alexisrutherford/salary_prediction/venv/lib/python3.9/site-packages/sklearn/feature_extraction/text.py\", line 1344, in fit_transform\n",
      "    raise ValueError(\"max_df corresponds to < documents than min_df\")\n",
      "ValueError: max_df corresponds to < documents than min_df\n",
      "\n",
      "  warnings.warn(some_fits_failed_message, FitFailedWarning)\n",
      "/Users/alexisrutherford/salary_prediction/venv/lib/python3.9/site-packages/sklearn/model_selection/_search.py:969: UserWarning: One or more of the test scores are non-finite: [-74385.54118905 -72392.86995947 -71382.4462627  -71079.89426861\n",
      " -74390.74231725 -72382.60029638 -71527.2318321  -71264.16498735\n",
      "             nan             nan             nan             nan\n",
      " -76254.06332035 -75587.65508233             nan             nan\n",
      " -74336.74383084 -72491.78546034 -71755.12890084 -71526.46210744\n",
      " -73652.97833256 -72504.72856599 -72057.48438735 -72162.52598616\n",
      " -73828.40297891 -72920.08400518 -72681.32562785 -73053.01867365\n",
      "             nan             nan             nan             nan\n",
      " -76162.11276714 -75581.84970945             nan             nan\n",
      " -73966.61431699 -73459.24674935 -73412.63098561 -73604.83428126\n",
      " -76879.13577216 -76222.84281732 -75319.45373643 -73918.11665115\n",
      " -76862.74770907 -76102.67522907 -75094.43331061 -73600.8913757\n",
      "             nan             nan             nan             nan\n",
      " -77076.64816723 -76314.96068032             nan             nan\n",
      " -76844.52680206 -76024.39005944 -74883.47035313 -73147.99809471\n",
      " -76620.12093342 -75919.72475947 -75215.91539229 -74399.90748863\n",
      " -76257.22365005 -75224.30747315 -74528.25219014 -73876.72690356\n",
      "             nan             nan             nan             nan\n",
      " -77066.11792321 -76309.27822118             nan             nan\n",
      " -75816.41617376 -74806.38465773 -74138.86492322 -73378.35449648\n",
      " -76150.08531027 -75112.59710766 -74301.96354136 -73707.72382132\n",
      " -76127.54281696 -75031.14755286 -74250.36661485 -73718.9031505\n",
      "             nan             nan             nan             nan\n",
      " -76845.99033962 -76204.43623057             nan             nan\n",
      " -76088.68260013 -74999.34150355 -74226.82613694 -73655.90073906\n",
      " -75712.58090935 -74942.25363362 -74545.0499539  -74394.69537094\n",
      " -75494.3674223  -74754.82223095 -74435.35501501 -74449.0928022\n",
      "             nan             nan             nan             nan\n",
      " -76811.21579643 -76199.47894408             nan             nan\n",
      " -75280.27547043 -74724.03572189 -74494.62128886 -74311.14213182\n",
      " -60319.07706283 -57336.53937031 -58422.78719755 -61676.37916211\n",
      " -60450.24203193 -57442.68034662 -58487.12492735 -61561.14110868\n",
      "             nan             nan             nan             nan\n",
      " -69869.49093069 -68256.87982352             nan             nan\n",
      " -60558.95877172 -57790.09864172 -58883.66707086 -61646.2078669\n",
      " -59219.86403449 -58545.4029891  -59624.11916862 -62582.89069919\n",
      " -60226.95305075 -59410.23236238 -60200.53199478 -63064.39066069\n",
      "             nan             nan             nan             nan\n",
      " -69318.35466604 -68271.51188805             nan             nan\n",
      " -61942.02990998 -61540.25954744 -62533.97245985 -64589.42852843\n",
      " -74975.69996098 -71180.89245794 -66894.1835005  -63639.25014592\n",
      " -74822.0160689  -70592.11950748 -66265.2685707  -63384.25795693\n",
      "             nan             nan             nan             nan\n",
      " -76461.73806221 -71743.72550217             nan             nan\n",
      " -74674.79387853 -70032.58522813 -65254.90831187 -62377.07483257\n",
      " -73187.59205109 -69575.30892944 -66588.23379171 -64797.61984495\n",
      " -71243.01861856 -67706.62308629 -65443.06127346 -64731.65967953\n",
      "             nan             nan             nan             nan\n",
      " -76366.83679258 -71731.76472773             nan             nan\n",
      " -69019.93210343 -65264.69249369 -63495.03481436 -63267.8987228\n",
      " -69071.21550004 -64574.23644553 -62487.77099232 -62876.5122475\n",
      " -68989.99332508 -64435.2426901  -62549.84884309 -62886.76842697\n",
      "             nan             nan             nan             nan\n",
      " -74319.53638201 -71170.74341914             nan             nan\n",
      " -68847.45780187 -64389.07646606 -62529.88640371 -62772.54536163\n",
      " -66879.14403154 -64303.93345576 -63308.22761503 -64095.98513074\n",
      " -66794.13525932 -64376.47645688 -63805.01492021 -64715.63964373\n",
      "             nan             nan             nan             nan\n",
      " -74027.96616922 -71157.06344838             nan             nan\n",
      " -66658.01020503 -64519.51611821 -64177.11622656 -64931.45340696\n",
      " -51346.86474114 -54545.49222869 -58423.67932196 -61355.20620664\n",
      " -51442.0152137  -53831.15823907 -58078.54849355 -61044.51606366\n",
      "             nan             nan             nan             nan\n",
      " -61705.03529289 -65871.7309346              nan             nan\n",
      " -51679.41050383 -53927.65486639 -58082.03975618 -61144.35358074\n",
      " -51838.00732301 -54649.85923501 -58139.91237247 -61966.89824793\n",
      " -52072.88703204 -54001.92135361 -57303.26212037 -61387.19999534\n",
      "             nan             nan             nan             nan\n",
      " -61468.81375066 -65928.95329284             nan             nan\n",
      " -52756.83927213 -54160.49529622 -57550.54424704 -62247.77496143\n",
      " -71747.82700694 -63764.44674526 -59089.59212268 -62124.30923555\n",
      " -71362.86774531 -62934.2071795  -58672.09251243 -62235.32643204\n",
      "             nan             nan             nan             nan\n",
      " -74842.63287313 -67968.78701021             nan             nan\n",
      " -70909.54081296 -61671.88114029 -57718.56303241 -61552.8688703\n",
      " -67824.09952559 -61661.56699103 -59435.31722786 -63566.22545493\n",
      " -64909.44359525 -59752.62131101 -58952.62259719 -63265.97757034\n",
      "             nan             nan             nan             nan\n",
      " -74487.83338756 -67974.08631066             nan             nan\n",
      " -60614.64679929 -56390.35791471 -57203.05966821 -60503.17680357\n",
      " -58556.31397849 -53925.68868806 -55043.61271422 -60034.3927109\n",
      " -58554.30176153 -53983.05514034 -55180.80819837 -59994.82528781\n",
      "             nan             nan             nan             nan\n",
      " -68154.3865688  -65620.28146757             nan             nan\n",
      " -58448.82814216 -53952.17459064 -55253.87294388 -59754.97491562\n",
      " -56441.40648182 -54557.41794146 -56113.80744818 -60574.61232375\n",
      " -56629.13379283 -54944.21337289 -56773.92050724 -60805.10396635\n",
      "             nan             nan             nan             nan\n",
      " -67468.2196294  -65632.61292522             nan             nan\n",
      " -56182.96966972 -55009.46747263 -56859.5061698  -59595.7203739\n",
      " -50546.93811505 -57696.55034506 -59294.02504664 -61838.28496203\n",
      " -50596.52320063 -56733.29058496 -59019.47455778 -61522.08597619\n",
      "             nan             nan             nan             nan\n",
      " -60056.39444646 -66279.99472395             nan             nan\n",
      " -50750.1650212  -56894.3334822  -59430.73673424 -61389.72112537\n",
      " -51544.75352056 -56707.04470342 -59675.37967375 -62713.36416298\n",
      " -51521.978505   -54837.66507316 -58381.41150089 -61880.69943929\n",
      "             nan             nan             nan             nan\n",
      " -60269.5704437  -66175.87699203             nan             nan\n",
      " -51579.70728395 -54252.87931158 -58360.45754162 -63042.6798829\n",
      " -71117.250649   -63113.70201683 -58881.62346769 -63049.98781776\n",
      " -70712.63420983 -62303.26365637 -58611.81169222 -63376.30827352\n",
      "             nan             nan             nan             nan\n",
      " -74498.05298925 -68424.08655257             nan             nan\n",
      " -70170.5988863  -61080.40787529 -57747.57720643 -62625.21755294\n",
      " -66832.23249815 -60910.41590306 -58993.93785695 -65358.5952638\n",
      " -63875.89542543 -59167.37819907 -58725.52222117 -65135.89532887\n",
      "             nan             nan             nan             nan\n",
      " -74056.1659319  -68446.69979463             nan             nan\n",
      " -59101.58456632 -55600.50718261 -56937.00006625 -60944.25027949\n",
      " -56353.13326929 -52800.6551072  -54351.94563087 -60379.273683\n",
      " -56346.35855324 -52925.26261011 -54419.15992168 -60639.31817959\n",
      "             nan             nan             nan             nan\n",
      " -66432.49938417 -65614.28874215             nan             nan\n",
      " -56226.98349219 -52871.57820706 -54536.03642061 -60184.22994488\n",
      " -54331.88614995 -53045.96109169 -54967.75545082 -61391.1598898\n",
      " -54478.4881613  -53335.00664313 -55582.77966641 -61704.85940892\n",
      "             nan             nan             nan             nan\n",
      " -65657.54558524 -65623.88278706             nan             nan\n",
      " -53689.54772406 -53038.86342872 -55516.76934047 -59919.27990561]\n",
      "  warnings.warn(\n"
     ]
    },
    {
     "data": {
      "text/plain": [
       "GridSearchCV(estimator=Pipeline(steps=[('vect', CountVectorizer()),\n",
       "                                       ('tfidf', TfidfTransformer()),\n",
       "                                       ('svr', SVR())]),\n",
       "             n_jobs=-1,\n",
       "             param_grid={'svr__C': (0.01, 0.1, 0.5, 1),\n",
       "                         'svr__kernel': ('linear', 'poly', 'rbf'),\n",
       "                         'tfidf__use_idf': (True, False),\n",
       "                         'vect__max_df': (0.5, 0.75, 0, 9, 1.0),\n",
       "                         'vect__min_df': (0.0, 0.01, 0.025, 0.05)},\n",
       "             scoring=make_scorer(my_log_loss, greater_is_better=False),\n",
       "             verbose=1)"
      ]
     },
     "execution_count": 52,
     "metadata": {},
     "output_type": "execute_result"
    }
   ],
   "source": [
    "grid_search.fit(X_train, y_train)"
   ]
  },
  {
   "cell_type": "code",
   "execution_count": 48,
   "id": "b0cb32c5-80d0-4fb3-8678-2a9f49641fd9",
   "metadata": {},
   "outputs": [
    {
     "data": {
      "text/plain": [
       "-61268.37274101919"
      ]
     },
     "execution_count": 48,
     "metadata": {},
     "output_type": "execute_result"
    }
   ],
   "source": [
    "grid_search.best_score_"
   ]
  },
  {
   "cell_type": "code",
   "execution_count": null,
   "id": "4f5592ea-d2cc-4eef-84fa-0818cec193e3",
   "metadata": {},
   "outputs": [],
   "source": []
  }
 ],
 "metadata": {
  "kernelspec": {
   "display_name": "venv",
   "language": "python",
   "name": "venv"
  },
  "language_info": {
   "codemirror_mode": {
    "name": "ipython",
    "version": 3
   },
   "file_extension": ".py",
   "mimetype": "text/x-python",
   "name": "python",
   "nbconvert_exporter": "python",
   "pygments_lexer": "ipython3",
   "version": "3.9.5"
  }
 },
 "nbformat": 4,
 "nbformat_minor": 5
}
