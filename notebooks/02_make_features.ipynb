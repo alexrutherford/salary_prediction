{
 "cells": [
  {
   "cell_type": "code",
   "execution_count": 16,
   "id": "c3b8dd59-82da-4ebc-9d4c-70e77b20ce1e",
   "metadata": {},
   "outputs": [],
   "source": [
    "import pandas as pd\n",
    "from sklearn.feature_extraction.text import CountVectorizer\n",
    "from sklearn.feature_extraction.text import TfidfTransformer\n",
    "from sklearn import linear_model"
   ]
  },
  {
   "cell_type": "code",
   "execution_count": 31,
   "id": "d10e79c6-1d39-42c2-807b-be5fc4600d2d",
   "metadata": {},
   "outputs": [],
   "source": [
    "combinedDf = pd.read_csv('../data/processed/combined.csv')"
   ]
  },
  {
   "cell_type": "code",
   "execution_count": 32,
   "id": "d1c05628-c70a-41e4-a7cb-d24052699e85",
   "metadata": {},
   "outputs": [
    {
     "data": {
      "text/html": [
       "<div>\n",
       "<style scoped>\n",
       "    .dataframe tbody tr th:only-of-type {\n",
       "        vertical-align: middle;\n",
       "    }\n",
       "\n",
       "    .dataframe tbody tr th {\n",
       "        vertical-align: top;\n",
       "    }\n",
       "\n",
       "    .dataframe thead th {\n",
       "        text-align: right;\n",
       "    }\n",
       "</style>\n",
       "<table border=\"1\" class=\"dataframe\">\n",
       "  <thead>\n",
       "    <tr style=\"text-align: right;\">\n",
       "      <th></th>\n",
       "      <th>Unnamed: 0</th>\n",
       "      <th>O*NET-SOC Code</th>\n",
       "      <th>Title</th>\n",
       "      <th>Description</th>\n",
       "      <th>A_MEAN</th>\n",
       "    </tr>\n",
       "  </thead>\n",
       "  <tbody>\n",
       "    <tr>\n",
       "      <th>0</th>\n",
       "      <td>11-1011</td>\n",
       "      <td>11-1011.00</td>\n",
       "      <td>Chief Executives</td>\n",
       "      <td>Determine and formulate policies and provide o...</td>\n",
       "      <td>213020</td>\n",
       "    </tr>\n",
       "    <tr>\n",
       "      <th>1</th>\n",
       "      <td>11-1011</td>\n",
       "      <td>11-1011.03</td>\n",
       "      <td>Chief Sustainability Officers</td>\n",
       "      <td>Communicate and coordinate with management, sh...</td>\n",
       "      <td>213020</td>\n",
       "    </tr>\n",
       "    <tr>\n",
       "      <th>2</th>\n",
       "      <td>11-1021</td>\n",
       "      <td>11-1021.00</td>\n",
       "      <td>General and Operations Managers</td>\n",
       "      <td>Plan, direct, or coordinate the operations of ...</td>\n",
       "      <td>115250</td>\n",
       "    </tr>\n",
       "    <tr>\n",
       "      <th>3</th>\n",
       "      <td>11-1031</td>\n",
       "      <td>11-1031.00</td>\n",
       "      <td>Legislators</td>\n",
       "      <td>Develop, introduce, or enact laws and statutes...</td>\n",
       "      <td>57110</td>\n",
       "    </tr>\n",
       "    <tr>\n",
       "      <th>4</th>\n",
       "      <td>11-2011</td>\n",
       "      <td>11-2011.00</td>\n",
       "      <td>Advertising and Promotions Managers</td>\n",
       "      <td>Plan, direct, or coordinate advertising polici...</td>\n",
       "      <td>142860</td>\n",
       "    </tr>\n",
       "  </tbody>\n",
       "</table>\n",
       "</div>"
      ],
      "text/plain": [
       "  Unnamed: 0 O*NET-SOC Code                                Title  \\\n",
       "0    11-1011     11-1011.00                     Chief Executives   \n",
       "1    11-1011     11-1011.03        Chief Sustainability Officers   \n",
       "2    11-1021     11-1021.00      General and Operations Managers   \n",
       "3    11-1031     11-1031.00                          Legislators   \n",
       "4    11-2011     11-2011.00  Advertising and Promotions Managers   \n",
       "\n",
       "                                         Description  A_MEAN  \n",
       "0  Determine and formulate policies and provide o...  213020  \n",
       "1  Communicate and coordinate with management, sh...  213020  \n",
       "2  Plan, direct, or coordinate the operations of ...  115250  \n",
       "3  Develop, introduce, or enact laws and statutes...   57110  \n",
       "4  Plan, direct, or coordinate advertising polici...  142860  "
      ]
     },
     "execution_count": 32,
     "metadata": {},
     "output_type": "execute_result"
    }
   ],
   "source": [
    "combinedDf.head()"
   ]
  },
  {
   "cell_type": "code",
   "execution_count": 69,
   "id": "3a046405-84c4-41f7-b495-926bdf5813e5",
   "metadata": {},
   "outputs": [
    {
     "name": "stdout",
     "output_type": "stream",
     "text": [
      "Determine and formulate policies and provide overall direction of companies or private and public sector organizations within guidelines set up by a board of directors or similar governing body. Plan, direct, or coordinate operational activities at the highest level of management with the help of subordinate executives and staff managers.\n"
     ]
    }
   ],
   "source": [
    "print(combinedDf[combinedDf['Title'] == 'Chief Executives']['Description'][0])"
   ]
  },
  {
   "cell_type": "markdown",
   "id": "475933bb-7a2b-421e-9043-9d9a3caf4cca",
   "metadata": {},
   "source": [
    "## Get the word features"
   ]
  },
  {
   "cell_type": "code",
   "execution_count": 58,
   "id": "f830d275-d6fe-47e2-9785-efa007bed7e8",
   "metadata": {},
   "outputs": [],
   "source": [
    "count_vect = CountVectorizer(ngram_range=(1,2))"
   ]
  },
  {
   "cell_type": "code",
   "execution_count": 59,
   "id": "e103642e-a1b5-4315-a113-97b627af55ae",
   "metadata": {},
   "outputs": [],
   "source": [
    "counts = count_vect.fit_transform(combinedDf['Description'])"
   ]
  },
  {
   "cell_type": "code",
   "execution_count": 35,
   "id": "9943fa47-185c-4520-bb5f-f4c301829fdd",
   "metadata": {},
   "outputs": [
    {
     "data": {
      "text/plain": [
       "<956x22396 sparse matrix of type '<class 'numpy.int64'>'\n",
       "\twith 49031 stored elements in Compressed Sparse Row format>"
      ]
     },
     "execution_count": 35,
     "metadata": {},
     "output_type": "execute_result"
    }
   ],
   "source": [
    "counts"
   ]
  },
  {
   "cell_type": "code",
   "execution_count": 36,
   "id": "63933a26-225c-4b97-a086-3815c2b96f78",
   "metadata": {},
   "outputs": [],
   "source": [
    "tf_transformer = TfidfTransformer(use_idf=False).fit(counts)"
   ]
  },
  {
   "cell_type": "code",
   "execution_count": 37,
   "id": "5f686cd2-51d4-41cf-96d8-b481f7e1848d",
   "metadata": {},
   "outputs": [],
   "source": [
    "X_train_tf = tf_transformer.transform(counts)"
   ]
  },
  {
   "cell_type": "code",
   "execution_count": 38,
   "id": "ebc9ee32-899b-4c3d-8906-6e384ef4d99a",
   "metadata": {},
   "outputs": [
    {
     "data": {
      "text/plain": [
       "0      False\n",
       "1      False\n",
       "2      False\n",
       "3      False\n",
       "4      False\n",
       "       ...  \n",
       "951    False\n",
       "952    False\n",
       "953    False\n",
       "954    False\n",
       "955    False\n",
       "Name: A_MEAN, Length: 956, dtype: bool"
      ]
     },
     "execution_count": 38,
     "metadata": {},
     "output_type": "execute_result"
    }
   ],
   "source": [
    "combinedDf['A_MEAN'].isna()"
   ]
  },
  {
   "cell_type": "markdown",
   "id": "eb42f153-b29b-415a-9d3f-a67757305a12",
   "metadata": {},
   "source": [
    "## Make a model"
   ]
  },
  {
   "cell_type": "code",
   "execution_count": 39,
   "id": "53324732-6b77-4604-a25d-f4454a3a804d",
   "metadata": {},
   "outputs": [],
   "source": [
    "reg = linear_model.LinearRegression()"
   ]
  },
  {
   "cell_type": "code",
   "execution_count": 40,
   "id": "011ede77-406e-450b-83fe-f137c602277e",
   "metadata": {},
   "outputs": [
    {
     "data": {
      "text/plain": [
       "LinearRegression()"
      ]
     },
     "execution_count": 40,
     "metadata": {},
     "output_type": "execute_result"
    }
   ],
   "source": [
    "reg.fit(X_train_tf, combinedDf['A_MEAN'])"
   ]
  },
  {
   "cell_type": "code",
   "execution_count": 81,
   "id": "c4a3f65a-b166-4e85-ad83-c6e1e3ff4198",
   "metadata": {},
   "outputs": [],
   "source": [
    "newJobs = ['Works with pets and lifts heavy objects','Makes decisions and manages a budget','Determine and formulate policies and provide overall direction of companies or private and public organizations within guidelines set up by a board of directors or similar governing body. Plan, direct, or coordinate operational activities at the highest level of management with the help of subordinate executives and staff managers.']"
   ]
  },
  {
   "cell_type": "code",
   "execution_count": 82,
   "id": "137c1c1d-e4da-42d9-9c2e-5131d1159015",
   "metadata": {},
   "outputs": [],
   "source": [
    "newJobsCounts = count_vect.transform(newJobs)"
   ]
  },
  {
   "cell_type": "code",
   "execution_count": 83,
   "id": "588fbec8-21ba-4a53-a33a-b2a8e4d67273",
   "metadata": {},
   "outputs": [
    {
     "data": {
      "text/plain": [
       "<3x22396 sparse matrix of type '<class 'numpy.int64'>'\n",
       "\twith 97 stored elements in Compressed Sparse Row format>"
      ]
     },
     "execution_count": 83,
     "metadata": {},
     "output_type": "execute_result"
    }
   ],
   "source": [
    "newJobsCounts"
   ]
  },
  {
   "cell_type": "code",
   "execution_count": 84,
   "id": "bfabe060-1a7d-4acb-a247-b935fcc5e409",
   "metadata": {},
   "outputs": [
    {
     "data": {
      "text/plain": [
       "<3x22396 sparse matrix of type '<class 'numpy.float64'>'\n",
       "\twith 97 stored elements in Compressed Sparse Row format>"
      ]
     },
     "execution_count": 84,
     "metadata": {},
     "output_type": "execute_result"
    }
   ],
   "source": [
    "tf_transformer.transform(newJobsCounts)"
   ]
  },
  {
   "cell_type": "code",
   "execution_count": 85,
   "id": "6c1c96b9-0824-4ebf-b876-f10f6db99713",
   "metadata": {},
   "outputs": [
    {
     "data": {
      "text/plain": [
       "array([-130327.23588975,    1169.06986522,  219797.83367204])"
      ]
     },
     "execution_count": 85,
     "metadata": {},
     "output_type": "execute_result"
    }
   ],
   "source": [
    "reg.predict(tf_transformer.transform(newJobsCounts))"
   ]
  },
  {
   "cell_type": "code",
   "execution_count": 86,
   "id": "734147d3-256d-4d75-86c0-0612d7ca5efd",
   "metadata": {},
   "outputs": [
    {
     "data": {
      "text/plain": [
       "0.9999999945589004"
      ]
     },
     "execution_count": 86,
     "metadata": {},
     "output_type": "execute_result"
    }
   ],
   "source": [
    "reg.score(X_train_tf,combinedDf['A_MEAN'])"
   ]
  },
  {
   "cell_type": "code",
   "execution_count": null,
   "id": "b3ea6450-800c-455f-92f1-71060b6064b6",
   "metadata": {},
   "outputs": [],
   "source": []
  }
 ],
 "metadata": {
  "kernelspec": {
   "display_name": "venv",
   "language": "python",
   "name": "venv"
  },
  "language_info": {
   "codemirror_mode": {
    "name": "ipython",
    "version": 3
   },
   "file_extension": ".py",
   "mimetype": "text/x-python",
   "name": "python",
   "nbconvert_exporter": "python",
   "pygments_lexer": "ipython3",
   "version": "3.9.5"
  }
 },
 "nbformat": 4,
 "nbformat_minor": 5
}
